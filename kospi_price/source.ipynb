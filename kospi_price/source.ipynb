{
 "cells": [
  {
   "cell_type": "code",
   "execution_count": 1,
   "metadata": {},
   "outputs": [],
   "source": [
    "import numpy as np"
   ]
  },
  {
   "cell_type": "code",
   "execution_count": 2,
   "metadata": {},
   "outputs": [],
   "source": [
    "import tensorflow as tf\n",
    "import pandas as pd\n",
    "import matplotlib.pyplot as plt"
   ]
  },
  {
   "cell_type": "code",
   "execution_count": 21,
   "metadata": {},
   "outputs": [
    {
     "data": {
      "text/plain": [
       "(239, 1)"
      ]
     },
     "execution_count": 21,
     "metadata": {},
     "output_type": "execute_result"
    }
   ],
   "source": [
    "# 미국금리\n",
    "fedfunds_trin_o = pd.read_csv('FEDFUNDS.csv')\n",
    "fedfunds_trin_o.head(1)\n",
    "fedfunds_trin_o = fedfunds_trin_o.drop(['DATE'], axis=1)\n",
    "\n",
    "fedfunds_trin_o.shape"
   ]
  },
  {
   "cell_type": "code",
   "execution_count": 22,
   "metadata": {},
   "outputs": [
    {
     "data": {
      "text/plain": [
       "(239, 1)"
      ]
     },
     "execution_count": 22,
     "metadata": {},
     "output_type": "execute_result"
    }
   ],
   "source": [
    "# 국고채금리\n",
    "gbond_trin_o = pd.read_csv('GBOND.csv')\n",
    "gbond_trin_o.head(1)\n",
    "gbond_trin_o = gbond_trin_o.drop(['DATE'], axis=1)\n",
    "\n",
    "gbond_trin_o.shape"
   ]
  },
  {
   "cell_type": "code",
   "execution_count": 23,
   "metadata": {},
   "outputs": [
    {
     "data": {
      "text/plain": [
       "(239, 1)"
      ]
     },
     "execution_count": 23,
     "metadata": {},
     "output_type": "execute_result"
    }
   ],
   "source": [
    "# 제조업 재고율\n",
    "ir_trin_o = pd.read_csv('ISRATIO.csv')\n",
    "ir_trin_o.head(1)\n",
    "ir_trin_o = ir_trin_o.drop(['DATE'], axis=1)\n",
    "\n",
    "ir_trin_o.shape"
   ]
  },
  {
   "cell_type": "code",
   "execution_count": 24,
   "metadata": {},
   "outputs": [
    {
     "data": {
      "text/plain": [
       "(239, 1)"
      ]
     },
     "execution_count": 24,
     "metadata": {},
     "output_type": "execute_result"
    }
   ],
   "source": [
    "# 미국 M2\n",
    "m2_trin_o = pd.read_csv('M2.csv')\n",
    "m2_trin_o.head(1)\n",
    "m2_trin_o = m2_trin_o.drop(['DATE'], axis=1)\n",
    "\n",
    "m2_trin_o.shape"
   ]
  },
  {
   "cell_type": "code",
   "execution_count": 25,
   "metadata": {},
   "outputs": [
    {
     "data": {
      "text/plain": [
       "(239, 1)"
      ]
     },
     "execution_count": 25,
     "metadata": {},
     "output_type": "execute_result"
    }
   ],
   "source": [
    "# 한국 M2K\n",
    "m2k_trin_o = pd.read_csv('M2K.csv')\n",
    "m2k_trin_o.head(1)\n",
    "m2k_trin_o = m2k_trin_o.drop(['DATE'], axis=1)\n",
    "\n",
    "m2k_trin_o.shape"
   ]
  },
  {
   "cell_type": "code",
   "execution_count": 38,
   "metadata": {},
   "outputs": [
    {
     "data": {
      "text/plain": [
       "(239, 1)"
      ]
     },
     "execution_count": 38,
     "metadata": {},
     "output_type": "execute_result"
    }
   ],
   "source": [
    "# 코스피\n",
    "kospi_trin_o = pd.read_csv('KOSPI.csv')\n",
    "kospi_trin_o.head(1)\n",
    "\n",
    "kospi_date_or = np.array(kospi_trin_o)\n",
    "kospi_date_o = kospi_trin_o.drop(['DATE'], axis=1)\n",
    "\n",
    "kospi_date_o.shape"
   ]
  },
  {
   "cell_type": "code",
   "execution_count": 32,
   "metadata": {},
   "outputs": [],
   "source": [
    "x_train = np.concatenate((fedfunds_trin_o, gbond_trin_o, ir_trin_o, m2_trin_o, m2k_trin_o), axis=1)\n",
    "y_train = np.array(kospi_date_o)"
   ]
  },
  {
   "cell_type": "code",
   "execution_count": 33,
   "metadata": {},
   "outputs": [],
   "source": [
    "model = tf.keras.Sequential([\n",
    "    tf.keras.layers.Dense(units=52, activation='relu', input_shape=(5,)),\n",
    "    tf.keras.layers.Dropout(0.1),\n",
    "    tf.keras.layers.Dense(units=39, activation='relu'),\n",
    "    tf.keras.layers.Dense(units=26, activation='relu'),\n",
    "    tf.keras.layers.Dense(units = 1)\n",
    "])"
   ]
  },
  {
   "cell_type": "code",
   "execution_count": 34,
   "metadata": {},
   "outputs": [],
   "source": [
    "model.compile(optimizer=tf.keras.optimizers.Adam(lr=0.00015), loss='mse')"
   ]
  },
  {
   "cell_type": "code",
   "execution_count": 35,
   "metadata": {},
   "outputs": [
    {
     "name": "stdout",
     "output_type": "stream",
     "text": [
      "Model: \"sequential_1\"\n",
      "_________________________________________________________________\n",
      "Layer (type)                 Output Shape              Param #   \n",
      "=================================================================\n",
      "dense_4 (Dense)              (None, 52)                312       \n",
      "_________________________________________________________________\n",
      "dropout_1 (Dropout)          (None, 52)                0         \n",
      "_________________________________________________________________\n",
      "dense_5 (Dense)              (None, 39)                2067      \n",
      "_________________________________________________________________\n",
      "dense_6 (Dense)              (None, 26)                1040      \n",
      "_________________________________________________________________\n",
      "dense_7 (Dense)              (None, 1)                 27        \n",
      "=================================================================\n",
      "Total params: 3,446\n",
      "Trainable params: 3,446\n",
      "Non-trainable params: 0\n",
      "_________________________________________________________________\n"
     ]
    }
   ],
   "source": [
    "model.summary()"
   ]
  },
  {
   "cell_type": "code",
   "execution_count": 36,
   "metadata": {},
   "outputs": [],
   "source": [
    "history = model.fit(\n",
    "    x_train, y_train, \n",
    "    epochs = 10000, \n",
    "    batch_size=200,\n",
    "    verbose=0\n",
    ")"
   ]
  },
  {
   "cell_type": "code",
   "execution_count": 37,
   "metadata": {},
   "outputs": [],
   "source": [
    "x_train_o = np.concatenate((fedfunds_trin_o, gbond_trin_o, ir_trin_o, m2_trin_o, m2k_trin_o), axis=1)\n",
    "# 결과도출\n",
    "result = model.predict(x_train_o)"
   ]
  },
  {
   "cell_type": "code",
   "execution_count": 41,
   "metadata": {},
   "outputs": [
    {
     "data": {
      "text/plain": [
       "(239, 1)"
      ]
     },
     "execution_count": 41,
     "metadata": {},
     "output_type": "execute_result"
    }
   ],
   "source": [
    "result.shape"
   ]
  },
  {
   "cell_type": "code",
   "execution_count": 44,
   "metadata": {},
   "outputs": [],
   "source": [
    "#np.delete(result,1,1)\n",
    "kospi_date = (kospi_date_or.T)[0]"
   ]
  },
  {
   "cell_type": "code",
   "execution_count": 45,
   "metadata": {},
   "outputs": [
    {
     "data": {
      "image/png": "[encoded data removed]",
      "text/plain": [
       "<Figure size 432x288 with 1 Axes>"
      ]
     },
     "metadata": {
      "needs_background": "light"
     },
     "output_type": "display_data"
    }
   ],
   "source": [
    "plt.plot(history.history['loss'])\n",
    "plt.show()"
   ]
  },
  {
   "cell_type": "code",
   "execution_count": 47,
   "metadata": {},
   "outputs": [
    {
     "data": {
      "image/png": "[encoded data removed]",
      "text/plain": [
       "<Figure size 1080x720 with 1 Axes>"
      ]
     },
     "metadata": {
      "needs_background": "light"
     },
     "output_type": "display_data"
    }
   ],
   "source": [
    "plt.figure(figsize=(15,10))\n",
    "plt.plot(kospi_date, result, 'r', label='real')\n",
    "plt.plot(kospi_date, y_train, 'g', label='predict')\n",
    "plt.xlabel('year-month')\n",
    "plt.ylabel('value')\n",
    "plt.legend()\n",
    "plt.show()"
   ]
  },
  {
   "cell_type": "code",
   "execution_count": 48,
   "metadata": {},
   "outputs": [
    {
     "data": {
      "text/plain": [
       "array([[ 720.35],\n",
       "       [ 622.92],\n",
       "       [ 548.07],\n",
       "       [ 544.09],\n",
       "       [ 526.36],\n",
       "       [ 585.02],\n",
       "       [ 593.4 ],\n",
       "       [ 543.89],\n",
       "       [ 530.27],\n",
       "       [ 600.73],\n",
       "       [ 602.93],\n",
       "       [ 554.11],\n",
       "       [ 567.65],\n",
       "       [ 504.04],\n",
       "       [ 523.27],\n",
       "       [ 604.92],\n",
       "       [ 665.95],\n",
       "       [ 738.99],\n",
       "       [ 774.42],\n",
       "       [ 864.66],\n",
       "       [ 894.03],\n",
       "       [ 842.23],\n",
       "       [ 784.3 ],\n",
       "       [ 753.67],\n",
       "       [ 713.23],\n",
       "       [ 703.  ],\n",
       "       [ 642.22],\n",
       "       [ 679.73],\n",
       "       [ 699.84],\n",
       "       [ 630.98],\n",
       "       [ 591.56],\n",
       "       [ 550.75],\n",
       "       [ 585.88],\n",
       "       [ 613.49],\n",
       "       [ 663.17],\n",
       "       [ 703.53],\n",
       "       [ 731.65],\n",
       "       [ 742.29],\n",
       "       [ 756.45],\n",
       "       [ 789.05],\n",
       "       [ 801.18],\n",
       "       [ 845.53],\n",
       "       [ 867.45],\n",
       "       [ 875.58],\n",
       "       [ 907.14],\n",
       "       [ 798.79],\n",
       "       [ 771.61],\n",
       "       [ 746.07],\n",
       "       [ 770.31],\n",
       "       [ 835.92],\n",
       "       [ 849.11],\n",
       "       [ 863.1 ],\n",
       "       [ 873.06],\n",
       "       [ 903.35],\n",
       "       [ 964.48],\n",
       "       [ 988.23],\n",
       "       [ 955.41],\n",
       "       [ 938.98],\n",
       "       [ 991.34],\n",
       "       [1058.71],\n",
       "       [1101.84],\n",
       "       [1171.02],\n",
       "       [1190.86],\n",
       "       [1253.26],\n",
       "       [1338.81],\n",
       "       [1379.32],\n",
       "       [1341.72],\n",
       "       [1331.72],\n",
       "       [1415.92],\n",
       "       [1388.83],\n",
       "       [1249.19],\n",
       "       [1278.  ],\n",
       "       [1316.08],\n",
       "       [1356.53],\n",
       "       [1354.04],\n",
       "       [1403.93],\n",
       "       [1418.83],\n",
       "       [1379.25],\n",
       "       [1434.89],\n",
       "       [1431.62],\n",
       "       [1517.12],\n",
       "       [1614.94],\n",
       "       [1754.28],\n",
       "       [1911.56],\n",
       "       [1815.02],\n",
       "       [1879.03],\n",
       "       [2004.55],\n",
       "       [1924.84],\n",
       "       [1903.99],\n",
       "       [1732.29],\n",
       "       [1689.53],\n",
       "       [1651.15],\n",
       "       [1776.58],\n",
       "       [1846.75],\n",
       "       [1758.17],\n",
       "       [1569.6 ],\n",
       "       [1537.55],\n",
       "       [1446.56],\n",
       "       [1201.7 ],\n",
       "       [1073.95],\n",
       "       [1114.9 ],\n",
       "       [1156.37],\n",
       "       [1139.75],\n",
       "       [1140.45],\n",
       "       [1322.1 ],\n",
       "       [1400.5 ],\n",
       "       [1395.24],\n",
       "       [1460.03],\n",
       "       [1577.91],\n",
       "       [1659.45],\n",
       "       [1630.61],\n",
       "       [1583.47],\n",
       "       [1646.64],\n",
       "       [1682.16],\n",
       "       [1598.96],\n",
       "       [1665.5 ],\n",
       "       [1730.29],\n",
       "       [1648.3 ],\n",
       "       [1691.94],\n",
       "       [1731.12],\n",
       "       [1762.18],\n",
       "       [1815.75],\n",
       "       [1889.7 ],\n",
       "       [1924.71],\n",
       "       [2002.5 ],\n",
       "       [2091.61],\n",
       "       [2002.87],\n",
       "       [2002.67],\n",
       "       [2153.13],\n",
       "       [2121.87],\n",
       "       [2074.64],\n",
       "       [2150.06],\n",
       "       [1869.41],\n",
       "       [1790.95],\n",
       "       [1825.88],\n",
       "       [1858.8 ],\n",
       "       [1863.23],\n",
       "       [1891.01],\n",
       "       [2003.23],\n",
       "       [2023.41],\n",
       "       [1995.92],\n",
       "       [1886.35],\n",
       "       [1848.6 ],\n",
       "       [1826.75],\n",
       "       [1918.91],\n",
       "       [1961.29],\n",
       "       [1942.19],\n",
       "       [1904.7 ],\n",
       "       [1973.84],\n",
       "       [1986.1 ],\n",
       "       [1979.85],\n",
       "       [1990.24],\n",
       "       [1938.88],\n",
       "       [1974.45],\n",
       "       [1884.41],\n",
       "       [1871.77],\n",
       "       [1896.96],\n",
       "       [1984.39],\n",
       "       [2029.68],\n",
       "       [2009.92],\n",
       "       [1988.33],\n",
       "       [1948.22],\n",
       "       [1937.73],\n",
       "       [1952.43],\n",
       "       [1991.19],\n",
       "       [1994.13],\n",
       "       [1995.08],\n",
       "       [2021.95],\n",
       "       [2060.93],\n",
       "       [2042.71],\n",
       "       [1942.8 ],\n",
       "       [1959.65],\n",
       "       [1941.93],\n",
       "       [1920.99],\n",
       "       [1961.  ],\n",
       "       [2012.62],\n",
       "       [2107.27],\n",
       "       [2114.9 ],\n",
       "       [2063.69],\n",
       "       [2058.03],\n",
       "       [1952.55],\n",
       "       [1939.58],\n",
       "       [2020.57],\n",
       "       [2006.78],\n",
       "       [1971.53],\n",
       "       [1894.65],\n",
       "       [1900.61],\n",
       "       [1976.5 ],\n",
       "       [1996.17],\n",
       "       [1966.68],\n",
       "       [1977.03],\n",
       "       [2002.48],\n",
       "       [2036.66],\n",
       "       [2042.56],\n",
       "       [2036.03],\n",
       "       [1981.75],\n",
       "       [2021.67],\n",
       "       [2061.73],\n",
       "       [2082.8 ],\n",
       "       [2136.17],\n",
       "       [2160.18],\n",
       "       [2301.89],\n",
       "       [2372.2 ],\n",
       "       [2412.9 ],\n",
       "       [2372.18],\n",
       "       [2371.84],\n",
       "       [2482.87],\n",
       "       [2533.51],\n",
       "       [2467.73],\n",
       "       [2520.94],\n",
       "       [2439.1 ],\n",
       "       [2451.57],\n",
       "       [2458.22],\n",
       "       [2461.3 ],\n",
       "       [2394.51],\n",
       "       [2284.25],\n",
       "       [2283.8 ],\n",
       "       [2307.33],\n",
       "       [2153.48],\n",
       "       [2083.33],\n",
       "       [2070.13],\n",
       "       [2101.98],\n",
       "       [2210.2 ],\n",
       "       [2161.91],\n",
       "       [2212.12],\n",
       "       [2086.9 ],\n",
       "       [2105.3 ],\n",
       "       [2079.48],\n",
       "       [1944.24],\n",
       "       [2045.21],\n",
       "       [2065.75],\n",
       "       [2128.79],\n",
       "       [2147.01],\n",
       "       [2203.44],\n",
       "       [2167.12],\n",
       "       [1786.75],\n",
       "       [1849.59],\n",
       "       [1965.17],\n",
       "       [2134.7 ]])"
      ]
     },
     "execution_count": 48,
     "metadata": {},
     "output_type": "execute_result"
    }
   ],
   "source": [
    "y_train"
   ]
  },
  {
   "cell_type": "code",
   "execution_count": null,
   "metadata": {},
   "outputs": [],
   "source": []
  }
 ],
 "metadata": {
  "kernelspec": {
   "display_name": "Python 3",
   "language": "python",
   "name": "python3"
  },
  "language_info": {
   "codemirror_mode": {
    "name": "ipython",
    "version": 3
   },
   "file_extension": ".py",
   "mimetype": "text/x-python",
   "name": "python",
   "nbconvert_exporter": "python",
   "pygments_lexer": "ipython3",
   "version": "3.6.8"
  }
 },
 "nbformat": 4,
 "nbformat_minor": 4
}
