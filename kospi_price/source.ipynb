{
 "cells": [
  {
   "cell_type": "code",
   "execution_count": 1,
   "metadata": {},
   "outputs": [],
   "source": [
    "import numpy as np"
   ]
  },
  {
   "cell_type": "code",
   "execution_count": 2,
   "metadata": {},
   "outputs": [],
   "source": [
    "import tensorflow as tf\n",
    "import pandas as pd\n",
    "import matplotlib.pyplot as plt"
   ]
  },
  {
   "cell_type": "code",
   "execution_count": 21,
   "metadata": {},
   "outputs": [
    {
     "data": {
      "text/plain": [
       "(239, 1)"
      ]
     },
     "execution_count": 21,
     "metadata": {},
     "output_type": "execute_result"
    }
   ],
   "source": [
    "# 미국금리\n",
    "fedfunds_trin_o = pd.read_csv('FEDFUNDS.csv')\n",
    "fedfunds_trin_o.head(1)\n",
    "fedfunds_trin_o = fedfunds_trin_o.drop(['DATE'], axis=1)\n",
    "\n",
    "fedfunds_trin_o.shape"
   ]
  },
  {
   "cell_type": "code",
   "execution_count": 22,
   "metadata": {},
   "outputs": [
    {
     "data": {
      "text/plain": [
       "(239, 1)"
      ]
     },
     "execution_count": 22,
     "metadata": {},
     "output_type": "execute_result"
    }
   ],
   "source": [
    "# 국고채금리\n",
    "gbond_trin_o = pd.read_csv('GBOND.csv')\n",
    "gbond_trin_o.head(1)\n",
    "gbond_trin_o = gbond_trin_o.drop(['DATE'], axis=1)\n",
    "\n",
    "gbond_trin_o.shape"
   ]
  },
  {
   "cell_type": "code",
   "execution_count": 23,
   "metadata": {},
   "outputs": [
    {
     "data": {
      "text/plain": [
       "(239, 1)"
      ]
     },
     "execution_count": 23,
     "metadata": {},
     "output_type": "execute_result"
    }
   ],
   "source": [
    "# 제조업 재고율\n",
    "ir_trin_o = pd.read_csv('ISRATIO.csv')\n",
    "ir_trin_o.head(1)\n",
    "ir_trin_o = ir_trin_o.drop(['DATE'], axis=1)\n",
    "\n",
    "ir_trin_o.shape"
   ]
  },
  {
   "cell_type": "code",
   "execution_count": 24,
   "metadata": {},
   "outputs": [
    {
     "data": {
      "text/plain": [
       "(239, 1)"
      ]
     },
     "execution_count": 24,
     "metadata": {},
     "output_type": "execute_result"
    }
   ],
   "source": [
    "# 미국 M2\n",
    "m2_trin_o = pd.read_csv('M2.csv')\n",
    "m2_trin_o.head(1)\n",
    "m2_trin_o = m2_trin_o.drop(['DATE'], axis=1)\n",
    "\n",
    "m2_trin_o.shape"
   ]
  },
  {
   "cell_type": "code",
   "execution_count": 25,
   "metadata": {},
   "outputs": [
    {
     "data": {
      "text/plain": [
       "(239, 1)"
      ]
     },
     "execution_count": 25,
     "metadata": {},
     "output_type": "execute_result"
    }
   ],
   "source": [
    "# 한국 M2K\n",
    "m2k_trin_o = pd.read_csv('M2K.csv')\n",
    "m2k_trin_o.head(1)\n",
    "m2k_trin_o = m2k_trin_o.drop(['DATE'], axis=1)\n",
    "\n",
    "m2k_trin_o.shape"
   ]
  },
  {
   "cell_type": "code",
   "execution_count": 54,
   "metadata": {},
   "outputs": [
    {
     "data": {
      "text/plain": [
       "(239, 1)"
      ]
     },
     "execution_count": 54,
     "metadata": {},
     "output_type": "execute_result"
    }
   ],
   "source": [
    "# 한국 실업률\n",
    "nj_trin_o = pd.read_csv('NJ.csv')\n",
    "nj_trin_o.head(1)\n",
    "nj_trin_o = nj_trin_o.drop(['DATE'], axis=1)\n",
    "\n",
    "nj_trin_o.shape"
   ]
  },
  {
   "cell_type": "code",
   "execution_count": 55,
   "metadata": {},
   "outputs": [
    {
     "data": {
      "text/plain": [
       "(239, 1)"
      ]
     },
     "execution_count": 55,
     "metadata": {},
     "output_type": "execute_result"
    }
   ],
   "source": [
    "# 코스피\n",
    "kospi_trin_o = pd.read_csv('KOSPI.csv')\n",
    "kospi_trin_o.head(1)\n",
    "\n",
    "kospi_date_or = np.array(kospi_trin_o)\n",
    "kospi_date_o = kospi_trin_o.drop(['DATE'], axis=1)\n",
    "\n",
    "kospi_date_o.shape"
   ]
  },
  {
   "cell_type": "code",
   "execution_count": 56,
   "metadata": {},
   "outputs": [],
   "source": [
    "x_train = np.concatenate((fedfunds_trin_o, gbond_trin_o, ir_trin_o, m2_trin_o, m2k_trin_o, nj_trin_o), axis=1)\n",
    "y_train = np.array(kospi_date_o)"
   ]
  },
  {
   "cell_type": "code",
   "execution_count": 57,
   "metadata": {},
   "outputs": [],
   "source": [
    "model = tf.keras.Sequential([\n",
    "    tf.keras.layers.Dense(units=52, activation='relu', input_shape=(6,)),\n",
    "    tf.keras.layers.Dropout(0.1),\n",
    "    tf.keras.layers.Dense(units=39, activation='relu'),\n",
    "    tf.keras.layers.Dense(units=26, activation='relu'),\n",
    "    tf.keras.layers.Dense(units = 1)\n",
    "])"
   ]
  },
  {
   "cell_type": "code",
   "execution_count": 58,
   "metadata": {},
   "outputs": [],
   "source": [
    "model.compile(optimizer=tf.keras.optimizers.Adam(lr=0.00015), loss='mse')"
   ]
  },
  {
   "cell_type": "code",
   "execution_count": 59,
   "metadata": {},
   "outputs": [
    {
     "name": "stdout",
     "output_type": "stream",
     "text": [
      "Model: \"sequential_2\"\n",
      "_________________________________________________________________\n",
      "Layer (type)                 Output Shape              Param #   \n",
      "=================================================================\n",
      "dense_8 (Dense)              (None, 52)                364       \n",
      "_________________________________________________________________\n",
      "dropout_2 (Dropout)          (None, 52)                0         \n",
      "_________________________________________________________________\n",
      "dense_9 (Dense)              (None, 39)                2067      \n",
      "_________________________________________________________________\n",
      "dense_10 (Dense)             (None, 26)                1040      \n",
      "_________________________________________________________________\n",
      "dense_11 (Dense)             (None, 1)                 27        \n",
      "=================================================================\n",
      "Total params: 3,498\n",
      "Trainable params: 3,498\n",
      "Non-trainable params: 0\n",
      "_________________________________________________________________\n"
     ]
    }
   ],
   "source": [
    "model.summary()"
   ]
  },
  {
   "cell_type": "code",
   "execution_count": 60,
   "metadata": {},
   "outputs": [],
   "source": [
    "history = model.fit(\n",
    "    x_train, y_train, \n",
    "    epochs = 10000, \n",
    "    batch_size=200,\n",
    "    verbose=0\n",
    ")"
   ]
  },
  {
   "cell_type": "code",
   "execution_count": 62,
   "metadata": {},
   "outputs": [],
   "source": [
    "x_train_o = np.concatenate((fedfunds_trin_o, gbond_trin_o, ir_trin_o, m2_trin_o, m2k_trin_o,nj_trin_o), axis=1)\n",
    "# 결과도출\n",
    "result = model.predict(x_train_o)"
   ]
  },
  {
   "cell_type": "code",
   "execution_count": 63,
   "metadata": {},
   "outputs": [
    {
     "data": {
      "text/plain": [
       "(239, 1)"
      ]
     },
     "execution_count": 63,
     "metadata": {},
     "output_type": "execute_result"
    }
   ],
   "source": [
    "result.shape"
   ]
  },
  {
   "cell_type": "code",
   "execution_count": 64,
   "metadata": {},
   "outputs": [],
   "source": [
    "#np.delete(result,1,1)\n",
    "kospi_date = (kospi_date_or.T)[0]"
   ]
  },
  {
   "cell_type": "code",
   "execution_count": 65,
   "metadata": {},
   "outputs": [
    {
     "data": {
      "image/png": "[encoded data removed]",
      "text/plain": [
       "<Figure size 432x288 with 1 Axes>"
      ]
     },
     "metadata": {
      "needs_background": "light"
     },
     "output_type": "display_data"
    }
   ],
   "source": [
    "plt.plot(history.history['loss'])\n",
    "plt.show()"
   ]
  },
  {
   "cell_type": "code",
   "execution_count": 66,
   "metadata": {},
   "outputs": [
    {
     "data": {
      "image/png": "[encoded data removed]",
      "text/plain": [
       "<Figure size 1080x720 with 1 Axes>"
      ]
     },
     "metadata": {
      "needs_background": "light"
     },
     "output_type": "display_data"
    }
   ],
   "source": [
    "plt.figure(figsize=(15,10))\n",
    "plt.plot(kospi_date, result, 'r', label='predict')\n",
    "plt.plot(kospi_date, y_train, 'g', label='real')\n",
    "plt.xlabel('year-month')\n",
    "plt.ylabel('value')\n",
    "plt.legend()\n",
    "plt.show()"
   ]
  },
  {
   "cell_type": "code",
   "execution_count": 67,
   "metadata": {},
   "outputs": [
    {
     "data": {
      "text/plain": [
       "(array([[ 720.35],\n",
       "        [ 622.92],\n",
       "        [ 548.07],\n",
       "        [ 544.09],\n",
       "        [ 526.36],\n",
       "        [ 585.02],\n",
       "        [ 593.4 ],\n",
       "        [ 543.89],\n",
       "        [ 530.27],\n",
       "        [ 600.73],\n",
       "        [ 602.93],\n",
       "        [ 554.11],\n",
       "        [ 567.65],\n",
       "        [ 504.04],\n",
       "        [ 523.27],\n",
       "        [ 604.92],\n",
       "        [ 665.95],\n",
       "        [ 738.99],\n",
       "        [ 774.42],\n",
       "        [ 864.66],\n",
       "        [ 894.03],\n",
       "        [ 842.23],\n",
       "        [ 784.3 ],\n",
       "        [ 753.67],\n",
       "        [ 713.23],\n",
       "        [ 703.  ],\n",
       "        [ 642.22],\n",
       "        [ 679.73],\n",
       "        [ 699.84],\n",
       "        [ 630.98],\n",
       "        [ 591.56],\n",
       "        [ 550.75],\n",
       "        [ 585.88],\n",
       "        [ 613.49],\n",
       "        [ 663.17],\n",
       "        [ 703.53],\n",
       "        [ 731.65],\n",
       "        [ 742.29],\n",
       "        [ 756.45],\n",
       "        [ 789.05],\n",
       "        [ 801.18],\n",
       "        [ 845.53],\n",
       "        [ 867.45],\n",
       "        [ 875.58],\n",
       "        [ 907.14],\n",
       "        [ 798.79],\n",
       "        [ 771.61],\n",
       "        [ 746.07],\n",
       "        [ 770.31],\n",
       "        [ 835.92],\n",
       "        [ 849.11],\n",
       "        [ 863.1 ],\n",
       "        [ 873.06],\n",
       "        [ 903.35],\n",
       "        [ 964.48],\n",
       "        [ 988.23],\n",
       "        [ 955.41],\n",
       "        [ 938.98],\n",
       "        [ 991.34],\n",
       "        [1058.71],\n",
       "        [1101.84],\n",
       "        [1171.02],\n",
       "        [1190.86],\n",
       "        [1253.26],\n",
       "        [1338.81],\n",
       "        [1379.32],\n",
       "        [1341.72],\n",
       "        [1331.72],\n",
       "        [1415.92],\n",
       "        [1388.83],\n",
       "        [1249.19],\n",
       "        [1278.  ],\n",
       "        [1316.08],\n",
       "        [1356.53],\n",
       "        [1354.04],\n",
       "        [1403.93],\n",
       "        [1418.83],\n",
       "        [1379.25],\n",
       "        [1434.89],\n",
       "        [1431.62],\n",
       "        [1517.12],\n",
       "        [1614.94],\n",
       "        [1754.28],\n",
       "        [1911.56],\n",
       "        [1815.02],\n",
       "        [1879.03],\n",
       "        [2004.55],\n",
       "        [1924.84],\n",
       "        [1903.99],\n",
       "        [1732.29],\n",
       "        [1689.53],\n",
       "        [1651.15],\n",
       "        [1776.58],\n",
       "        [1846.75],\n",
       "        [1758.17],\n",
       "        [1569.6 ],\n",
       "        [1537.55],\n",
       "        [1446.56],\n",
       "        [1201.7 ],\n",
       "        [1073.95],\n",
       "        [1114.9 ],\n",
       "        [1156.37],\n",
       "        [1139.75],\n",
       "        [1140.45],\n",
       "        [1322.1 ],\n",
       "        [1400.5 ],\n",
       "        [1395.24],\n",
       "        [1460.03],\n",
       "        [1577.91],\n",
       "        [1659.45],\n",
       "        [1630.61],\n",
       "        [1583.47],\n",
       "        [1646.64],\n",
       "        [1682.16],\n",
       "        [1598.96],\n",
       "        [1665.5 ],\n",
       "        [1730.29],\n",
       "        [1648.3 ],\n",
       "        [1691.94],\n",
       "        [1731.12],\n",
       "        [1762.18],\n",
       "        [1815.75],\n",
       "        [1889.7 ],\n",
       "        [1924.71],\n",
       "        [2002.5 ],\n",
       "        [2091.61],\n",
       "        [2002.87],\n",
       "        [2002.67],\n",
       "        [2153.13],\n",
       "        [2121.87],\n",
       "        [2074.64],\n",
       "        [2150.06],\n",
       "        [1869.41],\n",
       "        [1790.95],\n",
       "        [1825.88],\n",
       "        [1858.8 ],\n",
       "        [1863.23],\n",
       "        [1891.01],\n",
       "        [2003.23],\n",
       "        [2023.41],\n",
       "        [1995.92],\n",
       "        [1886.35],\n",
       "        [1848.6 ],\n",
       "        [1826.75],\n",
       "        [1918.91],\n",
       "        [1961.29],\n",
       "        [1942.19],\n",
       "        [1904.7 ],\n",
       "        [1973.84],\n",
       "        [1986.1 ],\n",
       "        [1979.85],\n",
       "        [1990.24],\n",
       "        [1938.88],\n",
       "        [1974.45],\n",
       "        [1884.41],\n",
       "        [1871.77],\n",
       "        [1896.96],\n",
       "        [1984.39],\n",
       "        [2029.68],\n",
       "        [2009.92],\n",
       "        [1988.33],\n",
       "        [1948.22],\n",
       "        [1937.73],\n",
       "        [1952.43],\n",
       "        [1991.19],\n",
       "        [1994.13],\n",
       "        [1995.08],\n",
       "        [2021.95],\n",
       "        [2060.93],\n",
       "        [2042.71],\n",
       "        [1942.8 ],\n",
       "        [1959.65],\n",
       "        [1941.93],\n",
       "        [1920.99],\n",
       "        [1961.  ],\n",
       "        [2012.62],\n",
       "        [2107.27],\n",
       "        [2114.9 ],\n",
       "        [2063.69],\n",
       "        [2058.03],\n",
       "        [1952.55],\n",
       "        [1939.58],\n",
       "        [2020.57],\n",
       "        [2006.78],\n",
       "        [1971.53],\n",
       "        [1894.65],\n",
       "        [1900.61],\n",
       "        [1976.5 ],\n",
       "        [1996.17],\n",
       "        [1966.68],\n",
       "        [1977.03],\n",
       "        [2002.48],\n",
       "        [2036.66],\n",
       "        [2042.56],\n",
       "        [2036.03],\n",
       "        [1981.75],\n",
       "        [2021.67],\n",
       "        [2061.73],\n",
       "        [2082.8 ],\n",
       "        [2136.17],\n",
       "        [2160.18],\n",
       "        [2301.89],\n",
       "        [2372.2 ],\n",
       "        [2412.9 ],\n",
       "        [2372.18],\n",
       "        [2371.84],\n",
       "        [2482.87],\n",
       "        [2533.51],\n",
       "        [2467.73],\n",
       "        [2520.94],\n",
       "        [2439.1 ],\n",
       "        [2451.57],\n",
       "        [2458.22],\n",
       "        [2461.3 ],\n",
       "        [2394.51],\n",
       "        [2284.25],\n",
       "        [2283.8 ],\n",
       "        [2307.33],\n",
       "        [2153.48],\n",
       "        [2083.33],\n",
       "        [2070.13],\n",
       "        [2101.98],\n",
       "        [2210.2 ],\n",
       "        [2161.91],\n",
       "        [2212.12],\n",
       "        [2086.9 ],\n",
       "        [2105.3 ],\n",
       "        [2079.48],\n",
       "        [1944.24],\n",
       "        [2045.21],\n",
       "        [2065.75],\n",
       "        [2128.79],\n",
       "        [2147.01],\n",
       "        [2203.44],\n",
       "        [2167.12],\n",
       "        [1786.75],\n",
       "        [1849.59],\n",
       "        [1965.17],\n",
       "        [2134.7 ]]), array([[ 843.0652 ],\n",
       "        [ 848.89185],\n",
       "        [ 729.5738 ],\n",
       "        [ 618.84814],\n",
       "        [ 660.7911 ],\n",
       "        [ 701.4081 ],\n",
       "        [ 608.2304 ],\n",
       "        [ 401.39328],\n",
       "        [ 491.58273],\n",
       "        [ 523.9389 ],\n",
       "        [ 540.7449 ],\n",
       "        [ 529.65955],\n",
       "        [ 481.87228],\n",
       "        [ 470.70862],\n",
       "        [ 758.34656],\n",
       "        [ 550.9484 ],\n",
       "        [ 528.71875],\n",
       "        [ 595.68567],\n",
       "        [ 911.3511 ],\n",
       "        [ 884.2677 ],\n",
       "        [ 838.8184 ],\n",
       "        [ 895.24963],\n",
       "        [ 777.4138 ],\n",
       "        [ 717.1617 ],\n",
       "        [ 696.2349 ],\n",
       "        [ 798.35266],\n",
       "        [ 635.7457 ],\n",
       "        [ 676.7413 ],\n",
       "        [ 722.61554],\n",
       "        [ 803.9785 ],\n",
       "        [1024.7172 ],\n",
       "        [1028.2084 ],\n",
       "        [1033.3652 ],\n",
       "        [ 997.95703],\n",
       "        [ 935.8014 ],\n",
       "        [ 871.8322 ],\n",
       "        [ 849.25616],\n",
       "        [1067.7867 ],\n",
       "        [1054.0156 ],\n",
       "        [1065.7084 ],\n",
       "        [1057.4496 ],\n",
       "        [1067.9263 ],\n",
       "        [1073.7869 ],\n",
       "        [1079.4017 ],\n",
       "        [1084.4598 ],\n",
       "        [1097.1842 ],\n",
       "        [1098.4401 ],\n",
       "        [1096.0261 ],\n",
       "        [1101.0742 ],\n",
       "        [1105.9452 ],\n",
       "        [1113.0789 ],\n",
       "        [1117.178  ],\n",
       "        [1116.4694 ],\n",
       "        [1114.286  ],\n",
       "        [1101.5995 ],\n",
       "        [1106.8363 ],\n",
       "        [1106.4983 ],\n",
       "        [1111.0708 ],\n",
       "        [1124.4061 ],\n",
       "        [1129.3286 ],\n",
       "        [1135.3413 ],\n",
       "        [1135.2517 ],\n",
       "        [1152.42   ],\n",
       "        [1159.3141 ],\n",
       "        [1164.388  ],\n",
       "        [1171.5919 ],\n",
       "        [1176.1865 ],\n",
       "        [1182.1918 ],\n",
       "        [1189.9122 ],\n",
       "        [1192.6831 ],\n",
       "        [1199.4609 ],\n",
       "        [1206.9064 ],\n",
       "        [1213.1805 ],\n",
       "        [1220.157  ],\n",
       "        [1224.4242 ],\n",
       "        [1233.2615 ],\n",
       "        [1237.293  ],\n",
       "        [1248.6252 ],\n",
       "        [1248.0977 ],\n",
       "        [1256.5985 ],\n",
       "        [1274.02   ],\n",
       "        [1276.7183 ],\n",
       "        [1283.2654 ],\n",
       "        [1290.2822 ],\n",
       "        [1303.4108 ],\n",
       "        [1307.6998 ],\n",
       "        [1312.134  ],\n",
       "        [1260.6306 ],\n",
       "        [1321.9409 ],\n",
       "        [1284.7742 ],\n",
       "        [1340.314  ],\n",
       "        [1183.9048 ],\n",
       "        [1276.9863 ],\n",
       "        [1322.7578 ],\n",
       "        [1354.511  ],\n",
       "        [1270.2324 ],\n",
       "        [1271.8988 ],\n",
       "        [1384.7953 ],\n",
       "        [1207.7869 ],\n",
       "        [1087.7332 ],\n",
       "        [ 991.5773 ],\n",
       "        [1141.9731 ],\n",
       "        [1234.1803 ],\n",
       "        [1417.0862 ],\n",
       "        [1478.5419 ],\n",
       "        [1481.1351 ],\n",
       "        [1483.463  ],\n",
       "        [1476.4596 ],\n",
       "        [1482.8885 ],\n",
       "        [1483.6226 ],\n",
       "        [1487.1163 ],\n",
       "        [1490.9618 ],\n",
       "        [1489.4369 ],\n",
       "        [1479.5739 ],\n",
       "        [1484.0824 ],\n",
       "        [1485.5874 ],\n",
       "        [1488.4395 ],\n",
       "        [1494.0504 ],\n",
       "        [1497.1005 ],\n",
       "        [1501.395  ],\n",
       "        [1514.1912 ],\n",
       "        [1517.4291 ],\n",
       "        [1526.8726 ],\n",
       "        [1530.1818 ],\n",
       "        [1534.6923 ],\n",
       "        [1541.2437 ],\n",
       "        [1548.6608 ],\n",
       "        [1558.5286 ],\n",
       "        [1568.2098 ],\n",
       "        [1578.9434 ],\n",
       "        [1590.407  ],\n",
       "        [1621.2343 ],\n",
       "        [1666.594  ],\n",
       "        [1666.0609 ],\n",
       "        [1673.7573 ],\n",
       "        [1679.0872 ],\n",
       "        [1679.5144 ],\n",
       "        [1691.7363 ],\n",
       "        [1702.9105 ],\n",
       "        [1711.6462 ],\n",
       "        [1713.6538 ],\n",
       "        [1709.0297 ],\n",
       "        [1719.1897 ],\n",
       "        [1735.6372 ],\n",
       "        [1747.9349 ],\n",
       "        [1756.4689 ],\n",
       "        [1776.7047 ],\n",
       "        [1784.892  ],\n",
       "        [1808.287  ],\n",
       "        [1805.9222 ],\n",
       "        [1786.2958 ],\n",
       "        [1800.5223 ],\n",
       "        [1792.5361 ],\n",
       "        [1785.372  ],\n",
       "        [1784.0298 ],\n",
       "        [1800.6945 ],\n",
       "        [1805.181  ],\n",
       "        [1804.8385 ],\n",
       "        [1827.7863 ],\n",
       "        [1825.186  ],\n",
       "        [1829.268  ],\n",
       "        [1825.437  ],\n",
       "        [1815.6543 ],\n",
       "        [1809.6964 ],\n",
       "        [1773.9845 ],\n",
       "        [1751.5045 ],\n",
       "        [1768.6747 ],\n",
       "        [1779.4949 ],\n",
       "        [1763.8225 ],\n",
       "        [1723.7196 ],\n",
       "        [1747.1963 ],\n",
       "        [1734.252  ],\n",
       "        [1724.0392 ],\n",
       "        [1767.0455 ],\n",
       "        [1742.5316 ],\n",
       "        [1727.1284 ],\n",
       "        [1747.1512 ],\n",
       "        [1707.7449 ],\n",
       "        [1702.1412 ],\n",
       "        [1727.5017 ],\n",
       "        [1729.536  ],\n",
       "        [1712.9491 ],\n",
       "        [1691.9337 ],\n",
       "        [1729.9551 ],\n",
       "        [1764.6461 ],\n",
       "        [1742.223  ],\n",
       "        [1721.8406 ],\n",
       "        [1771.515  ],\n",
       "        [1807.4097 ],\n",
       "        [1819.0072 ],\n",
       "        [1837.5493 ],\n",
       "        [1856.1134 ],\n",
       "        [1864.8597 ],\n",
       "        [1854.4023 ],\n",
       "        [1906.6545 ],\n",
       "        [1959.2649 ],\n",
       "        [1974.0186 ],\n",
       "        [1936.0865 ],\n",
       "        [1948.8156 ],\n",
       "        [1950.7847 ],\n",
       "        [1947.8955 ],\n",
       "        [1943.4071 ],\n",
       "        [1943.3491 ],\n",
       "        [1929.9454 ],\n",
       "        [1965.1923 ],\n",
       "        [1943.9097 ],\n",
       "        [1913.1377 ],\n",
       "        [1951.9066 ],\n",
       "        [1988.6395 ],\n",
       "        [1962.339  ],\n",
       "        [1913.867  ],\n",
       "        [1930.7192 ],\n",
       "        [1952.2441 ],\n",
       "        [1948.1399 ],\n",
       "        [1975.4392 ],\n",
       "        [1989.8473 ],\n",
       "        [1989.7516 ],\n",
       "        [1954.5447 ],\n",
       "        [1938.4941 ],\n",
       "        [1927.7058 ],\n",
       "        [1949.0736 ],\n",
       "        [1938.9806 ],\n",
       "        [1932.9335 ],\n",
       "        [1952.3574 ],\n",
       "        [1953.9302 ],\n",
       "        [1969.8799 ],\n",
       "        [1975.8358 ],\n",
       "        [2001.5249 ],\n",
       "        [2004.0881 ],\n",
       "        [2005.1125 ],\n",
       "        [2024.106  ],\n",
       "        [2041.716  ],\n",
       "        [2049.3843 ],\n",
       "        [2056.896  ],\n",
       "        [2061.8848 ],\n",
       "        [2157.7644 ],\n",
       "        [2416.0393 ],\n",
       "        [2618.2478 ],\n",
       "        [2672.8257 ]], dtype=float32))"
      ]
     },
     "execution_count": 67,
     "metadata": {},
     "output_type": "execute_result"
    }
   ],
   "source": [
    "y_train, result"
   ]
  },
  {
   "cell_type": "code",
   "execution_count": null,
   "metadata": {},
   "outputs": [],
   "source": []
  }
 ],
 "metadata": {
  "kernelspec": {
   "display_name": "Python 3",
   "language": "python",
   "name": "python3"
  },
  "language_info": {
   "codemirror_mode": {
    "name": "ipython",
    "version": 3
   },
   "file_extension": ".py",
   "mimetype": "text/x-python",
   "name": "python",
   "nbconvert_exporter": "python",
   "pygments_lexer": "ipython3",
   "version": "3.6.8"
  }
 },
 "nbformat": 4,
 "nbformat_minor": 4
}
